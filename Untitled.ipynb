{
 "cells": [
  {
   "cell_type": "code",
   "execution_count": 1,
   "id": "825be9bc",
   "metadata": {},
   "outputs": [
    {
     "data": {
      "text/plain": [
       "['Argentina', 'San Diego', 'Boston', 'New York']"
      ]
     },
     "execution_count": 1,
     "metadata": {},
     "output_type": "execute_result"
    }
   ],
   "source": [
    "places1 = [\" \",\"Argentina\", \" \", \"San Diego\",\"\",\"  \",\"\",\"Boston\",\"New York\"]\n",
    "\n",
    "#strip off spaces in string\n",
    "list(filter(lambda x:  x.strip(), places1))"
   ]
  },
  {
   "cell_type": "code",
   "execution_count": 2,
   "id": "584ff2f9",
   "metadata": {},
   "outputs": [
    {
     "name": "stdout",
     "output_type": "stream",
     "text": [
      "['Victor aNisimov', 'Gary A.J. Bernstein', 'Joel Carter', 'Andrew P. Garfield', 'David hassELHOFF']\n"
     ]
    }
   ],
   "source": [
    "author = [\"Joel Carter\", \"Victor aNisimov\", \"Andrew P. Garfield\",\"David hassELHOFF\",\"Gary A.J. Bernstein\"]\n",
    "\n",
    "#split to sort alphabetically by the last name, .lower to catch a in aNisimov\n",
    "author.sort(key = lambda x: x.split()[-1].lower())\n",
    "\n",
    "\n",
    "print(author) "
   ]
  },
  {
   "cell_type": "code",
   "execution_count": 3,
   "id": "550b2be7",
   "metadata": {},
   "outputs": [
    {
     "data": {
      "text/plain": [
       "[('Nashua', 89.6), ('Boston', 53.6), ('Los Angelos', 111.2), ('Miami', 84.2)]"
      ]
     },
     "execution_count": 3,
     "metadata": {},
     "output_type": "execute_result"
    }
   ],
   "source": [
    "# F = (9/5)*C + 32\n",
    "places = [('Nashua',32),(\"Boston\",12),(\"Los Angelos\",44),(\"Miami\",29)]\n",
    "\n",
    "\n",
    "def doit():\n",
    "    if places[1] == int:\n",
    "        return places[1]\n",
    "    \n",
    "list(map(lambda x: (x[0],(9/5)* x[1] + 32), places))\n",
    "#              ex:(Nashua,     32        ),list name"
   ]
  },
  {
   "cell_type": "code",
   "execution_count": 4,
   "id": "b6d9e5e7",
   "metadata": {},
   "outputs": [
    {
     "name": "stdout",
     "output_type": "stream",
     "text": [
      "34\n"
     ]
    }
   ],
   "source": [
    "def Iter(num):\n",
    "    \n",
    "    if num <= 1:                   #0-1 = 1\n",
    "        return 1                 #f(n) = f(n-1) + f(n-2)\n",
    "                                 #fibonaci - add 2 prev numbers before it\n",
    "    else:\n",
    "        return Iter(num -1) + Iter(num-2)\n",
    "          \n",
    "    for i in range(0, num):\n",
    "        print(Iter(i))\n",
    "    \n",
    "print(Iter(8))                  #up to number passed in"
   ]
  },
  {
   "cell_type": "code",
   "execution_count": null,
   "id": "9113c555",
   "metadata": {},
   "outputs": [],
   "source": []
  }
 ],
 "metadata": {
  "kernelspec": {
   "display_name": "Python 3",
   "language": "python",
   "name": "python3"
  },
  "language_info": {
   "codemirror_mode": {
    "name": "ipython",
    "version": 3
   },
   "file_extension": ".py",
   "mimetype": "text/x-python",
   "name": "python",
   "nbconvert_exporter": "python",
   "pygments_lexer": "ipython3",
   "version": "3.8.8"
  }
 },
 "nbformat": 4,
 "nbformat_minor": 5
}
